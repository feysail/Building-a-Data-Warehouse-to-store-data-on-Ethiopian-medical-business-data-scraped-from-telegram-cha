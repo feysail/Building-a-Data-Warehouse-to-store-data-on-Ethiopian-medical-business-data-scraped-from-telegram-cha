{
 "cells": [
  {
   "cell_type": "code",
   "execution_count": 3,
   "metadata": {},
   "outputs": [],
   "source": [
    "import pandas as pd\n",
    "from telethon import TelegramClient\n",
    "import asyncio\n"
   ]
  },
  {
   "cell_type": "code",
   "execution_count": 6,
   "metadata": {},
   "outputs": [
    {
     "ename": "OperationalError",
     "evalue": "database is locked",
     "output_type": "error",
     "traceback": [
      "\u001b[1;31m---------------------------------------------------------------------------\u001b[0m",
      "\u001b[1;31mOperationalError\u001b[0m                          Traceback (most recent call last)",
      "Cell \u001b[1;32mIn[6], line 15\u001b[0m\n\u001b[0;32m     12\u001b[0m channel_usernames \u001b[38;5;241m=\u001b[39m [\u001b[38;5;124m'\u001b[39m\u001b[38;5;124m@CheMed123\u001b[39m\u001b[38;5;124m'\u001b[39m, \u001b[38;5;124m'\u001b[39m\u001b[38;5;124m@lobelia4cosmetics\u001b[39m\u001b[38;5;124m'\u001b[39m]\n\u001b[0;32m     14\u001b[0m \u001b[38;5;66;03m# Create a new Telegram client\u001b[39;00m\n\u001b[1;32m---> 15\u001b[0m client \u001b[38;5;241m=\u001b[39m TelegramClient(\u001b[38;5;124m'\u001b[39m\u001b[38;5;124msession_name\u001b[39m\u001b[38;5;124m'\u001b[39m, api_id, api_hash)\n\u001b[0;32m     17\u001b[0m \u001b[38;5;28;01masync\u001b[39;00m \u001b[38;5;28;01mdef\u001b[39;00m \u001b[38;5;21mscrape_images\u001b[39m(channel_username):\n\u001b[0;32m     18\u001b[0m     \u001b[38;5;28;01mawait\u001b[39;00m client\u001b[38;5;241m.\u001b[39mstart()\n",
      "File \u001b[1;32mc:\\Users\\ASUS VIVO\\.conda\\envs\\me\\Lib\\site-packages\\telethon\\client\\telegrambaseclient.py:311\u001b[0m, in \u001b[0;36mTelegramBaseClient.__init__\u001b[1;34m(self, session, api_id, api_hash, connection, use_ipv6, proxy, local_addr, timeout, request_retries, connection_retries, retry_delay, auto_reconnect, sequential_updates, flood_sleep_threshold, raise_last_call_error, device_model, system_version, app_version, lang_code, system_lang_code, loop, base_logger, receive_updates, catch_up, entity_cache_limit)\u001b[0m\n\u001b[0;32m    308\u001b[0m \u001b[38;5;66;03m# ':' in session.server_address is True if it's an IPv6 address\u001b[39;00m\n\u001b[0;32m    309\u001b[0m \u001b[38;5;28;01mif\u001b[39;00m (\u001b[38;5;129;01mnot\u001b[39;00m session\u001b[38;5;241m.\u001b[39mserver_address \u001b[38;5;129;01mor\u001b[39;00m\n\u001b[0;32m    310\u001b[0m         (\u001b[38;5;124m'\u001b[39m\u001b[38;5;124m:\u001b[39m\u001b[38;5;124m'\u001b[39m \u001b[38;5;129;01min\u001b[39;00m session\u001b[38;5;241m.\u001b[39mserver_address) \u001b[38;5;241m!=\u001b[39m use_ipv6):\n\u001b[1;32m--> 311\u001b[0m     session\u001b[38;5;241m.\u001b[39mset_dc(\n\u001b[0;32m    312\u001b[0m         DEFAULT_DC_ID,\n\u001b[0;32m    313\u001b[0m         DEFAULT_IPV6_IP \u001b[38;5;28;01mif\u001b[39;00m \u001b[38;5;28mself\u001b[39m\u001b[38;5;241m.\u001b[39m_use_ipv6 \u001b[38;5;28;01melse\u001b[39;00m DEFAULT_IPV4_IP,\n\u001b[0;32m    314\u001b[0m         DEFAULT_PORT\n\u001b[0;32m    315\u001b[0m     )\n\u001b[0;32m    317\u001b[0m \u001b[38;5;28mself\u001b[39m\u001b[38;5;241m.\u001b[39mflood_sleep_threshold \u001b[38;5;241m=\u001b[39m flood_sleep_threshold\n\u001b[0;32m    319\u001b[0m \u001b[38;5;66;03m# TODO Use AsyncClassWrapper(session)\u001b[39;00m\n\u001b[0;32m    320\u001b[0m \u001b[38;5;66;03m# ChatGetter and SenderGetter can use the in-memory _mb_entity_cache\u001b[39;00m\n\u001b[0;32m    321\u001b[0m \u001b[38;5;66;03m# to avoid network access and the need for await in session files.\u001b[39;00m\n\u001b[1;32m   (...)\u001b[0m\n\u001b[0;32m    325\u001b[0m \u001b[38;5;66;03m# TODO Session should probably return all cached\u001b[39;00m\n\u001b[0;32m    326\u001b[0m \u001b[38;5;66;03m#      info of entities, not just the input versions\u001b[39;00m\n",
      "File \u001b[1;32mc:\\Users\\ASUS VIVO\\.conda\\envs\\me\\Lib\\site-packages\\telethon\\sessions\\sqlite.py:168\u001b[0m, in \u001b[0;36mSQLiteSession.set_dc\u001b[1;34m(self, dc_id, server_address, port)\u001b[0m\n\u001b[0;32m    166\u001b[0m \u001b[38;5;28;01mdef\u001b[39;00m \u001b[38;5;21mset_dc\u001b[39m(\u001b[38;5;28mself\u001b[39m, dc_id, server_address, port):\n\u001b[0;32m    167\u001b[0m     \u001b[38;5;28msuper\u001b[39m()\u001b[38;5;241m.\u001b[39mset_dc(dc_id, server_address, port)\n\u001b[1;32m--> 168\u001b[0m     \u001b[38;5;28mself\u001b[39m\u001b[38;5;241m.\u001b[39m_update_session_table()\n\u001b[0;32m    170\u001b[0m     \u001b[38;5;66;03m# Fetch the auth_key corresponding to this data center\u001b[39;00m\n\u001b[0;32m    171\u001b[0m     row \u001b[38;5;241m=\u001b[39m \u001b[38;5;28mself\u001b[39m\u001b[38;5;241m.\u001b[39m_execute(\u001b[38;5;124m'\u001b[39m\u001b[38;5;124mselect auth_key from sessions\u001b[39m\u001b[38;5;124m'\u001b[39m)\n",
      "File \u001b[1;32mc:\\Users\\ASUS VIVO\\.conda\\envs\\me\\Lib\\site-packages\\telethon\\sessions\\sqlite.py:194\u001b[0m, in \u001b[0;36mSQLiteSession._update_session_table\u001b[1;34m(self)\u001b[0m\n\u001b[0;32m    188\u001b[0m c \u001b[38;5;241m=\u001b[39m \u001b[38;5;28mself\u001b[39m\u001b[38;5;241m.\u001b[39m_cursor()\n\u001b[0;32m    189\u001b[0m \u001b[38;5;66;03m# While we can save multiple rows into the sessions table\u001b[39;00m\n\u001b[0;32m    190\u001b[0m \u001b[38;5;66;03m# currently we only want to keep ONE as the tables don't\u001b[39;00m\n\u001b[0;32m    191\u001b[0m \u001b[38;5;66;03m# tell us which auth_key's are usable and will work. Needs\u001b[39;00m\n\u001b[0;32m    192\u001b[0m \u001b[38;5;66;03m# some more work before being able to save auth_key's for\u001b[39;00m\n\u001b[0;32m    193\u001b[0m \u001b[38;5;66;03m# multiple DCs. Probably done differently.\u001b[39;00m\n\u001b[1;32m--> 194\u001b[0m c\u001b[38;5;241m.\u001b[39mexecute(\u001b[38;5;124m'\u001b[39m\u001b[38;5;124mdelete from sessions\u001b[39m\u001b[38;5;124m'\u001b[39m)\n\u001b[0;32m    195\u001b[0m c\u001b[38;5;241m.\u001b[39mexecute(\u001b[38;5;124m'\u001b[39m\u001b[38;5;124minsert or replace into sessions values (?,?,?,?,?)\u001b[39m\u001b[38;5;124m'\u001b[39m, (\n\u001b[0;32m    196\u001b[0m     \u001b[38;5;28mself\u001b[39m\u001b[38;5;241m.\u001b[39m_dc_id,\n\u001b[0;32m    197\u001b[0m     \u001b[38;5;28mself\u001b[39m\u001b[38;5;241m.\u001b[39m_server_address,\n\u001b[1;32m   (...)\u001b[0m\n\u001b[0;32m    200\u001b[0m     \u001b[38;5;28mself\u001b[39m\u001b[38;5;241m.\u001b[39m_takeout_id\n\u001b[0;32m    201\u001b[0m ))\n\u001b[0;32m    202\u001b[0m c\u001b[38;5;241m.\u001b[39mclose()\n",
      "\u001b[1;31mOperationalError\u001b[0m: database is locked"
     ]
    }
   ],
   "source": [
    "import pandas as pd\n",
    "from telethon import TelegramClient\n",
    "import asyncio\n",
    "import nest_asyncio\n",
    "\n",
    "# Apply nest_asyncio to allow nested event loops\n",
    "nest_asyncio.apply()\n",
    "\n",
    "# Replace with your own values\n",
    "api_id = 28083480\n",
    "api_hash = '075e74a23e6e74708690f1f11bf0b266'\n",
    "channel_usernames = ['@CheMed123', '@lobelia4cosmetics']\n",
    "\n",
    "# Create a new Telegram client\n",
    "client = TelegramClient('session_name', api_id, api_hash)\n",
    "\n",
    "async def scrape_images(channel_username):\n",
    "    await client.start()\n",
    "    \n",
    "    # Get the channel\n",
    "    channel = await client.get_entity(channel_username)\n",
    "    images = []\n",
    "\n",
    "    async for message in client.iter_messages(channel):\n",
    "        if message.photo:\n",
    "            image_url = await message.download_media()  # Download the image\n",
    "            images.append(image_url)\n",
    "\n",
    "    # Create a DataFrame\n",
    "    df = pd.DataFrame(images, columns=['Image_URL'])\n",
    "    return df\n",
    "\n",
    "def run_scraper():\n",
    "    all_images = []\n",
    "    for username in channel_usernames:\n",
    "        df = asyncio.run(scrape_images(username))\n",
    "        all_images.append(df)\n",
    "        \n",
    "    # Concatenate all DataFrames into one\n",
    "    return pd.concat(all_images, ignore_index=True)\n",
    "\n",
    "# Run the scraper and store the DataFrame\n",
    "df_images = run_scraper()\n",
    "\n",
    "# Display the DataFrame\n",
    "df_images.head()\n"
   ]
  },
  {
   "cell_type": "code",
   "execution_count": null,
   "metadata": {},
   "outputs": [],
   "source": []
  }
 ],
 "metadata": {
  "kernelspec": {
   "display_name": "me",
   "language": "python",
   "name": "python3"
  },
  "language_info": {
   "codemirror_mode": {
    "name": "ipython",
    "version": 3
   },
   "file_extension": ".py",
   "mimetype": "text/x-python",
   "name": "python",
   "nbconvert_exporter": "python",
   "pygments_lexer": "ipython3",
   "version": "3.12.4"
  }
 },
 "nbformat": 4,
 "nbformat_minor": 2
}
